{
 "cells": [
  {
   "cell_type": "markdown",
   "id": "6ef35201-1850-4b36-bbd2-b541329fa114",
   "metadata": {},
   "source": [
    "## Qué es git"
   ]
  },
  {
   "cell_type": "markdown",
   "id": "79d22804-5fc4-440d-8972-529113881d09",
   "metadata": {},
   "source": [
    "Git es un sistema de control de versiones distribuido que te permite registrar los cambios que haces en tus archivos y volver a versiones anteriores si algo sale mal."
   ]
  },
  {
   "cell_type": "markdown",
   "id": "8968bb10-8761-4551-9bf9-485af6d3a8fa",
   "metadata": {},
   "source": [
    "## Qué es github"
   ]
  },
  {
   "cell_type": "markdown",
   "id": "81f977da-d1c1-4308-9ed8-1ee025b26bd7",
   "metadata": {
    "tags": []
   },
   "source": [
    "GitHub es un servicio basado en la nube que aloja un sistema de control de versiones (VCS) llamado Git. Éste permite a los desarrolladores colaborar y realizar cambios en proyectos compartidos, a la vez que mantienen un seguimiento detallado de su progreso.\n",
    "Algunas características clave de GitHub incluyen la posibilidad de realizar solicitudes de extracción (pull requests), la gestión de problemas (issues), y la integración continua con servicios de automatización de construcción y prueba. GitHub facilita la colaboración entre desarrolladores de todo el mundo."
   ]
  },
  {
   "cell_type": "markdown",
   "id": "7690dd21-c7da-4ce0-931b-d14c7593c137",
   "metadata": {},
   "source": [
    "## MagicCells"
   ]
  },
  {
   "cell_type": "markdown",
   "id": "1b26eb6e-7f9b-4626-8049-30c18fee2667",
   "metadata": {},
   "source": [
    "MagicCells es una característica de los entornos de ejecución de notebooks como Jupyter. Permite etiquetar celdas de código o texto con comandos especiales, conocidos como \"comandos mágicos\", que proporcionan funcionalidades adicionales.\n",
    "\n",
    "Por ejemplo, se pueden utilizar comandos mágicos para cargar extensiones, medir el tiempo de ejecución de una celda, o incluso realizar acciones específicas dependiendo del lenguaje de programación utilizado en la celda."
   ]
  },
  {
   "cell_type": "code",
   "execution_count": null,
   "id": "30047b03-be7a-4f70-96fe-8e7e7e8292b3",
   "metadata": {},
   "outputs": [],
   "source": []
  }
 ],
 "metadata": {
  "kernelspec": {
   "display_name": "Python 3 (ipykernel)",
   "language": "python",
   "name": "python3"
  },
  "language_info": {
   "codemirror_mode": {
    "name": "ipython",
    "version": 3
   },
   "file_extension": ".py",
   "mimetype": "text/x-python",
   "name": "python",
   "nbconvert_exporter": "python",
   "pygments_lexer": "ipython3",
   "version": "3.11.5"
  }
 },
 "nbformat": 4,
 "nbformat_minor": 5
}
